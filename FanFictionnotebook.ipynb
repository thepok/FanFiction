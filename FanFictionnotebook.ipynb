{
 "cells": [
  {
   "cell_type": "code",
   "execution_count": 5,
   "metadata": {},
   "outputs": [
    {
     "name": "stdout",
     "output_type": "stream",
     "text": [
      "Generating a new FanFiction\n",
      "Generated Plot: \n",
      "\n",
      "The crew of the USS Discovery is on a mission in the depths of space to explore a mysterious region of the galaxy. They are searching for a rare and powerful substance known as 'Tritonium', a material that could potentially revolutionize space travel and the universe as a whole.\n",
      "\n",
      "The crew is nearing the end of their mission when they receive a distress call from an unknown species. After some debate, they decide to investigate the call. As they approach, the crew is shocked to find the species is none other than the Borg, a long-forgotten race of cybernetic warriors.\n",
      "\n",
      "The Borg claim they are searching for Tritonium to power their ship and return home. The crew is hesitant to trust the Borg, and a tense negotiation ensues. Eventually, the crew agrees to help the Borg if they swear to never use Tritonium for any malicious purposes.\n",
      "\n",
      "The Borg accept the terms and the Discovery begins a search for the missing substance. After days of searching, the crew eventually finds a pocket of Tritonium. The crew is surprised to find that the substance is much more powerful than they anticipated.\n",
      "\n",
      "The crew quickly downloads the Tritonium into the Discovery’s storage banks and sets a course for the Borg’s home planet. When they arrive, the crew is amazed to find a world populated by the advanced race of cybernetic warriors.\n",
      "\n",
      "The crew is welcomed as honored guests and allowed to explore the planet’s many wonders. After several days, the crew prepares to depart, leaving the Borg with a new source of power and a new ally in their corner.\n",
      "\n",
      "As the Discovery heads back to Federation space, the crew reflects on the mission and their newfound allies. They have all gained a newfound appreciation for the power of Tritonium, and a newfound respect for a species they once thought of as their enemies.\n",
      "Iteration 0\n",
      "Generated Problems:\n",
      "\n",
      "-What does the crew of the USS Discovery do to help the Borg find Tritonium?\n",
      "\n",
      "-How does the crew of the Discovery react when they find the Tritonium?\n",
      "\n",
      "-What does the planet of the Borg look like?\n",
      "\n",
      "-What sort of wonders does the crew explore on the planet?\n",
      "Generated Solution: \n",
      "\n",
      "The crew of the USS Discovery agrees to help the Borg search for Tritonium, and sets out to explore the mysterious region of space. After days of searching, the crew eventually finds a pocket of Tritonium, which is much more powerful than they anticipated. The crew quickly downloads the Tritonium into the Discovery’s storage banks.\n",
      "\n",
      "When they arrive at the Borg's home planet, the crew is amazed to find a world populated by the advanced race of cybernetic warriors. The crew is welcomed as honored guests and allowed to explore the planet’s many wonders, including elaborate cities, beautiful gardens, and a variety of advanced technology. After several days, the crew prepares to depart, leaving the Borg with a new source of power and a newfound ally.\n",
      "Iteration 1\n",
      "Generated Problems:\n",
      "- How the crew of the USS Discovery found out about the distress call.\n",
      "- How the crew managed to obtain the Tritonium.\n",
      "- What the crew discovered while exploring the Borg’s home planet.\n",
      "- What the crew of the USS Discovery gained from their trip.\n",
      "Generated Solution: \n",
      "The crew of the USS Discovery was alerted to the distress call from the unknown species by a faint signal emanating from the region of space. After consulting with their Starfleet superiors, the crew agreed to investigate. \n",
      "\n",
      "The crew searched for days before detecting the Tritonium, which was located inside a massive asteroid. After a complex operation to extract the substance, the crew managed to download the Tritonium into the Discovery’s storage banks. \n",
      "\n",
      "When they arrived at the Borg’s home planet, the crew was amazed to find a world populated by a species of cybernetic warriors. The crew explored the planet’s many wonders, including elaborate cities, beautiful gardens, and a variety of advanced technology. The crew also gained a newfound respect for the Borg, and a newfound appreciation for the power of Tritonium.\n",
      "Iteration 2\n",
      "Generated Problems: It is unclear how the crew extracted the Tritonium from the asteroid, what happened when they arrived at the Borg’s home planet, and how the crew managed to gain a newfound respect for the Borg.\n",
      "Generated Solution: \n",
      "\n",
      "The crew used a complex mining operation to extract the Tritonium from the asteroid, and upon arriving at the Borg's home planet, the crew was amazed to find a world populated by a species of cybernetic warriors. The crew explored the planet's many wonders, including elaborate cities, gardens full of beautiful flowers and plants, and a variety of advanced technology. In addition, they managed to gain a newfound respect for the Borg by interacting with them and learning more about their culture. They also discovered that the Tritonium was the source of the Borg's power, and they gained a newfound appreciation for the powerful substance. \n",
      "\n",
      "As they returned home, the crew of the USS Discovery had gained a newfound respect for the species they once thought of as their enemies, as well as a newfound appreciation for the power of Tritonium.\n",
      "Final Story: \n",
      "\n",
      "The crew of the USS Discovery set out on a mission to explore a mysterious region of space in search of a rare and powerful substance known as 'Tritonium'. After receiving a faint signal emanating from the region, the crew consulted with their Starfleet superiors and agreed to investigate.\n",
      "\n",
      "The crew searched for days before eventually detecting the Tritonium, which was located inside a massive asteroid. After a complex mining operation to extract the substance, the crew managed to download the Tritonium into the Discovery’s storage banks.\n",
      "\n",
      "When they arrived at the Borg’s home planet, the crew was amazed to find a world populated by a species of cybernetic warriors. The crew explored the planet’s many wonders, including elaborate cities, gardens full of beautiful flowers and plants, and a variety of advanced technology. As they interacted with the Borg and learned more about their culture, the crew gained a newfound respect for them. They also discovered that the Tritonium was the source of the Borg's power, and they gained a newfound appreciation for the powerful substance. \n",
      "\n",
      "The crew of the USS Discovery returned home with a newfound respect for the species they once thought of as their enemies, as well as a newfound appreciation for the power of Tritonium.\n"
     ]
    }
   ],
   "source": [
    "from FanFictionGenerator import FanFictionGenerator\n",
    "\n",
    "generator = FanFictionGenerator()\n",
    "seriesName = \"Star Trek\"\n",
    "# seriesName = \"friends (tv show)\"\n",
    "story = generator.generateInitial(seriesName, False)\n",
    "\n",
    "for i in range(0, 3):\n",
    "    print(\"Iteration \" + str(i))\n",
    "    story = generator.improve(seriesName, story)\n",
    "\n",
    "print(\"Final Story: \" + story)"
   ]
  }
 ],
 "metadata": {
  "kernelspec": {
   "display_name": "LangChain",
   "language": "python",
   "name": "python3"
  },
  "language_info": {
   "codemirror_mode": {
    "name": "ipython",
    "version": 3
   },
   "file_extension": ".py",
   "mimetype": "text/x-python",
   "name": "python",
   "nbconvert_exporter": "python",
   "pygments_lexer": "ipython3",
   "version": "3.10.8"
  },
  "orig_nbformat": 4,
  "vscode": {
   "interpreter": {
    "hash": "f1969811f9dbccd720fe70d86f97596ed468b0e823b833cc584309818b6a0e25"
   }
  }
 },
 "nbformat": 4,
 "nbformat_minor": 2
}
